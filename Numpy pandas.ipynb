{
 "cells": [
  {
   "cell_type": "code",
   "execution_count": 1,
   "id": "0a485142",
   "metadata": {},
   "outputs": [],
   "source": [
    "import pandas as pd"
   ]
  },
  {
   "cell_type": "code",
   "execution_count": 2,
   "id": "120ec184",
   "metadata": {},
   "outputs": [
    {
     "name": "stdout",
     "output_type": "stream",
     "text": [
      "0    20\n",
      "1    30\n",
      "2    40\n",
      "3    50\n",
      "dtype: int64\n"
     ]
    }
   ],
   "source": [
    "data = [20, 30, 40, 50]\n",
    "series = pd.Series(data)\n",
    "print(series)"
   ]
  },
  {
   "cell_type": "code",
   "execution_count": 3,
   "id": "eb90c6c6",
   "metadata": {},
   "outputs": [
    {
     "name": "stdout",
     "output_type": "stream",
     "text": [
      "A    1\n",
      "B    3\n",
      "C    5\n",
      "D    7\n",
      "dtype: int64\n"
     ]
    }
   ],
   "source": [
    "data = [1,3,5,7]\n",
    "i = ['A', 'B', 'C', 'D']\n",
    "series = pd.Series(data, index=i)\n",
    "print(series)"
   ]
  },
  {
   "cell_type": "code",
   "execution_count": 6,
   "id": "b23bbe7d",
   "metadata": {},
   "outputs": [
    {
     "name": "stdout",
     "output_type": "stream",
     "text": [
      "v     10\n",
      "jk     7\n",
      "tk    30\n",
      "dtype: int64\n"
     ]
    }
   ],
   "source": [
    "#create panda series using dictionary\n",
    "data = {'v':10, 'jk':7, 'tk':30}\n",
    "series = pd.Series(data)\n",
    "print(series)"
   ]
  },
  {
   "cell_type": "code",
   "execution_count": 7,
   "id": "601b135b",
   "metadata": {},
   "outputs": [
    {
     "data": {
      "text/plain": [
       "v     10\n",
       "jk     7\n",
       "tk    20\n",
       "dtype: int64"
      ]
     },
     "execution_count": 7,
     "metadata": {},
     "output_type": "execute_result"
    }
   ],
   "source": [
    "series.replace(30,20)"
   ]
  },
  {
   "cell_type": "code",
   "execution_count": 9,
   "id": "f132215c",
   "metadata": {},
   "outputs": [
    {
     "name": "stdout",
     "output_type": "stream",
     "text": [
      "a    200\n",
      "b    450\n",
      "c    600\n",
      "d    800\n",
      "dtype: int32\n"
     ]
    }
   ],
   "source": [
    "#create a series using numpy array\n",
    "import numpy as np\n",
    "data = np.array([200, 450, 600, 800])\n",
    "series = pd.Series(data, index=['a','b','c','d'])\n",
    "print(series)"
   ]
  },
  {
   "cell_type": "code",
   "execution_count": 11,
   "id": "d5a852bc",
   "metadata": {},
   "outputs": [
    {
     "name": "stdout",
     "output_type": "stream",
     "text": [
      "      Name  Age country\n",
      "0  william   24      US\n",
      "1   Archen   23   Italy\n",
      "2       jk   26      SK\n"
     ]
    }
   ],
   "source": [
    "#create pandas dataframe from dictionary of lists\n",
    "import pandas as pd\n",
    "data = {'Name':['william','Archen','jk'], 'Age':[24,23,26], 'country':['US','Italy','SK']}\n",
    "df = pd.DataFrame(data)\n",
    "print(df)"
   ]
  },
  {
   "cell_type": "code",
   "execution_count": 14,
   "id": "2bc86cb6",
   "metadata": {},
   "outputs": [
    {
     "name": "stdout",
     "output_type": "stream",
     "text": [
      "[[3 5 6]\n",
      " [4 7 5]\n",
      " [7 8 4]]\n",
      "   A  B  C\n",
      "0  3  5  6\n",
      "1  4  7  5\n",
      "2  7  8  4\n"
     ]
    }
   ],
   "source": [
    "#creating pandas dataframe from numpy arrays\n",
    "import numpy as np\n",
    "array = np.array([[3,5,6],[4,7,5],[7,8,4]])\n",
    "print(array)\n",
    "df = pd.DataFrame(array, columns=['A','B','C'])\n",
    "print(df)"
   ]
  },
  {
   "cell_type": "code",
   "execution_count": null,
   "id": "cdbee5e6",
   "metadata": {},
   "outputs": [],
   "source": []
  }
 ],
 "metadata": {
  "kernelspec": {
   "display_name": "Python 3 (ipykernel)",
   "language": "python",
   "name": "python3"
  },
  "language_info": {
   "codemirror_mode": {
    "name": "ipython",
    "version": 3
   },
   "file_extension": ".py",
   "mimetype": "text/x-python",
   "name": "python",
   "nbconvert_exporter": "python",
   "pygments_lexer": "ipython3",
   "version": "3.11.5"
  }
 },
 "nbformat": 4,
 "nbformat_minor": 5
}
